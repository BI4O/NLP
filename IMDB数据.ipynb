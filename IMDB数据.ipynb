{
 "cells": [
  {
   "cell_type": "markdown",
   "metadata": {},
   "source": [
    "## 导包和数据预处理"
   ]
  },
  {
   "cell_type": "code",
   "execution_count": 1,
   "metadata": {},
   "outputs": [
    {
     "name": "stdout",
     "output_type": "stream",
     "text": [
      "1.16.2\n",
      "2.0.0-alpha0\n"
     ]
    }
   ],
   "source": [
    "import tensorflow as tf\n",
    "from tensorflow.python import keras\n",
    "\n",
    "import numpy as np\n",
    "\n",
    "print(np.__version__)\n",
    "\n",
    "print(tf.__version__)"
   ]
  },
  {
   "cell_type": "code",
   "execution_count": 2,
   "metadata": {},
   "outputs": [],
   "source": [
    "'''切分数据集为训练集和测试集'''\n",
    "imdb = keras.datasets.imdb\n",
    "\n",
    "(train_data, train_labels), (test_data, test_labels) = imdb.load_data('imdb.npz',num_words=15000)"
   ]
  },
  {
   "cell_type": "code",
   "execution_count": 3,
   "metadata": {},
   "outputs": [
    {
     "name": "stdout",
     "output_type": "stream",
     "text": [
      "Training entries: 25000, labels: 25000\n"
     ]
    }
   ],
   "source": [
    "'''查看训练集的样本数量'''\n",
    "\n",
    "print(\"Training entries: {}, labels: {}\".format(len(train_data), len(train_labels)))"
   ]
  },
  {
   "cell_type": "code",
   "execution_count": 4,
   "metadata": {},
   "outputs": [
    {
     "name": "stdout",
     "output_type": "stream",
     "text": [
      "[1, 14, 22, 16, 43, 530, 973, 1622, 1385, 65, 458, 4468, 66, 3941, 4, 173, 36, 256, 5, 25, 100, 43, 838, 112, 50, 670, 2, 9, 35, 480, 284, 5, 150, 4, 172, 112, 167, 2, 336, 385, 39, 4, 172, 4536, 1111, 17, 546, 38, 13, 447, 4, 192, 50, 16, 6, 147, 2025, 19, 14, 22, 4, 1920, 4613, 469, 4, 22, 71, 87, 12, 16, 43, 530, 38, 76, 15, 13, 1247, 4, 22, 17, 515, 17, 12, 16, 626, 18, 2, 5, 62, 386, 12, 8, 316, 8, 106, 5, 4, 2223, 5244, 16, 480, 66, 3785, 33, 4, 130, 12, 16, 38, 619, 5, 25, 124, 51, 36, 135, 48, 25, 1415, 33, 6, 22, 12, 215, 28, 77, 52, 5, 14, 407, 16, 82, 10311, 8, 4, 107, 117, 5952, 15, 256, 4, 2, 7, 3766, 5, 723, 36, 71, 43, 530, 476, 26, 400, 317, 46, 7, 4, 12118, 1029, 13, 104, 88, 4, 381, 15, 297, 98, 32, 2071, 56, 26, 141, 6, 194, 7486, 18, 4, 226, 22, 21, 134, 476, 26, 480, 5, 144, 30, 5535, 18, 51, 36, 28, 224, 92, 25, 104, 4, 226, 65, 16, 38, 1334, 88, 12, 16, 283, 5, 16, 4472, 113, 103, 32, 15, 16, 5345, 19, 178, 32]\n",
      "len:  218 189\n"
     ]
    }
   ],
   "source": [
    "'''文本都被转换乘int了，一个int对应的就是一个文字'''\n",
    "\n",
    "# 看看第一句的组成\n",
    "print(train_data[0]) \n",
    "# 查第一句和第二句个各有多长\n",
    "print('len: ',len(train_data[0]), len(train_data[1]))"
   ]
  },
  {
   "cell_type": "code",
   "execution_count": 5,
   "metadata": {},
   "outputs": [
    {
     "data": {
      "text/plain": [
       "\"<START> shown in australia as <UNK> this incredibly bad movie is so bad that you become <UNK> and have to watch it to the end just to see if it could get any worse and it does the storyline is so predictable it seems written by a high school <UNK> class the sets are pathetic but marginally better than the <UNK> and the acting is wooden br br the infant <UNK> seems to have been stolen from the props <UNK> of <UNK> <UNK> there didn't seem to be a single original idea in the whole movie br br i found this movie to be so bad that i laughed most of the way through br br malcolm mcdowell should hang his head in shame he obviously needed the money\""
      ]
     },
     "execution_count": 5,
     "metadata": {},
     "output_type": "execute_result"
    }
   ],
   "source": [
    "'''定义解码规则 把int重新根据字典转化为中文文本'''\n",
    "\n",
    "# A dictionary mapping words to an integer index\n",
    "word_index = imdb.get_word_index()\n",
    "\n",
    "# The first indices are reserved\n",
    "word_index = {k:(v+3) for k,v in word_index.items()} \n",
    "word_index[\"<PAD>\"] = 0\n",
    "word_index[\"<START>\"] = 1\n",
    "word_index[\"<UNK>\"] = 2  # unknown\n",
    "word_index[\"<UNUSED>\"] = 3\n",
    "\n",
    "reverse_word_index = dict([(value, key) for (key, value) in word_index.items()])\n",
    "\n",
    "def decode_review(text):\n",
    "    return ' '.join([reverse_word_index.get(i, '?') for i in text])\n",
    "\n",
    "\n",
    "\n",
    "'''查看解码后的文字是怎么样的'''\n",
    "\n",
    "decode_review(train_data[20])"
   ]
  },
  {
   "cell_type": "code",
   "execution_count": 6,
   "metadata": {},
   "outputs": [
    {
     "data": {
      "text/plain": [
       "(256, 256)"
      ]
     },
     "execution_count": 6,
     "metadata": {},
     "output_type": "execute_result"
    }
   ],
   "source": [
    "'''准备结构化数据用于模型训练'''\n",
    "\n",
    "train_data = keras.preprocessing.sequence.pad_sequences(train_data,\n",
    "                                                        value=word_index[\"<PAD>\"],\n",
    "                                                        padding='post',\n",
    "                                                        maxlen=256)\n",
    "\n",
    "test_data = keras.preprocessing.sequence.pad_sequences(test_data,\n",
    "                                                       value=word_index[\"<PAD>\"],\n",
    "                                                       padding='post',\n",
    "                                                       maxlen=256)\n",
    "# 查看此时的训练数据\n",
    "len(train_data[0]), len(train_data[1])"
   ]
  },
  {
   "cell_type": "code",
   "execution_count": 7,
   "metadata": {},
   "outputs": [
    {
     "data": {
      "text/plain": [
       "((25000, 256), (25000, 256))"
      ]
     },
     "execution_count": 7,
     "metadata": {},
     "output_type": "execute_result"
    }
   ],
   "source": [
    "'''查看结构化后的数据是什么形状的'''\n",
    "\n",
    "train_data.shape,test_data.shape # 结构化的数据使每个句子都是256个字，多的就补0"
   ]
  },
  {
   "cell_type": "markdown",
   "metadata": {},
   "source": [
    "# 建立模型"
   ]
  },
  {
   "cell_type": "code",
   "execution_count": 8,
   "metadata": {},
   "outputs": [
    {
     "name": "stdout",
     "output_type": "stream",
     "text": [
      "Model: \"sequential\"\n",
      "_________________________________________________________________\n",
      "Layer (type)                 Output Shape              Param #   \n",
      "=================================================================\n",
      "embedding (Embedding)        (None, None, 16)          240000    \n",
      "_________________________________________________________________\n",
      "global_average_pooling1d (Gl (None, 16)                0         \n",
      "_________________________________________________________________\n",
      "dense (Dense)                (None, 16)                272       \n",
      "_________________________________________________________________\n",
      "dropout (Dropout)            (None, 16)                0         \n",
      "_________________________________________________________________\n",
      "dense_1 (Dense)              (None, 1)                 17        \n",
      "=================================================================\n",
      "Total params: 240,289\n",
      "Trainable params: 240,289\n",
      "Non-trainable params: 0\n",
      "_________________________________________________________________\n"
     ]
    }
   ],
   "source": [
    "# 输入的vocab_sice指的是字典中的单词量\n",
    "vocab_size = 15000\n",
    "\n",
    "model = keras.Sequential()\n",
    "model.add(keras.layers.Embedding(vocab_size, 16))\n",
    "model.add(keras.layers.GlobalAveragePooling1D())\n",
    "#model.add(keras.layers.GlobalMaxPooling1D())\n",
    "model.add(keras.layers.Dense(16, activation=tf.nn.relu))\n",
    "model.add(keras.layers.Dropout(0.5))\n",
    "model.add(keras.layers.Dense(1, activation=tf.nn.sigmoid))\n",
    "\n",
    "model.summary()"
   ]
  },
  {
   "cell_type": "code",
   "execution_count": 9,
   "metadata": {},
   "outputs": [],
   "source": [
    "'''专业级建模'''\n",
    "\n",
    "from tensorflow.keras.layers import Dense, Dropout, GlobalAveragePooling1D, Embedding\n",
    "from tensorflow.keras import Model\n",
    "\n",
    "class MyModel(Model):\n",
    "  def __init__(self):\n",
    "    super(MyModel, self).__init__()\n",
    "    self.embed = Embedding(vocab_size, 16)\n",
    "    self.pool = GlobalAveragePooling1D()\n",
    "    self.d1 = Dense(16, activation=tf.nn.relu)\n",
    "#     self.dropout = Dropout(0.5)\n",
    "    self.d2 = Dense(1, activation=tf.nn.softmax)\n",
    "\n",
    "  def call(self, x):\n",
    "    x = self.embed(x)\n",
    "    x = self.pool(x)\n",
    "    x = self.d1(x)\n",
    "    return self.d2(x)\n",
    "\n",
    "mymodel = MyModel()\n",
    "\n"
   ]
  },
  {
   "cell_type": "code",
   "execution_count": 11,
   "metadata": {},
   "outputs": [],
   "source": [
    "'''选择合适的优化器和损失函数'''\n",
    "\n",
    "model.compile(optimizer='Adam',\n",
    "              loss='binary_crossentropy',  # 采用常用的交叉熵损失函数\n",
    "              metrics=['accuracy'])"
   ]
  },
  {
   "cell_type": "code",
   "execution_count": 12,
   "metadata": {},
   "outputs": [],
   "source": [
    "'''从训练集中拆分出验证集，用于可视化训练过程'''\n",
    "\n",
    "# 为什么不用测试集？因为我们目标是只用train集训练模型最后用test来验证模型的泛化能力\n",
    "\n",
    "x_val = train_data[:10000]\n",
    "partial_x_train = train_data[10000:]\n",
    "\n",
    "y_val = train_labels[:10000]\n",
    "partial_y_train = train_labels[10000:]"
   ]
  },
  {
   "cell_type": "markdown",
   "metadata": {},
   "source": [
    "## 训练模型"
   ]
  },
  {
   "cell_type": "code",
   "execution_count": 15,
   "metadata": {},
   "outputs": [
    {
     "data": {
      "text/plain": [
       "<__main__.Metrics at 0x27b103dfcf8>"
      ]
     },
     "execution_count": 15,
     "metadata": {},
     "output_type": "execute_result"
    }
   ],
   "source": [
    "'''训练模型之log记录，遍历训练数据20次，minibatch为512，引入sklearn来记录分数'''\n",
    "\n",
    "#每一Epochs都进行F1计算\n",
    "import numpy as np\n",
    "from keras.callbacks import Callback\n",
    "from keras.engine.training import Model\n",
    "from sklearn.metrics import confusion_matrix, f1_score, precision_score, recall_score\n",
    "class Metrics(Callback):\n",
    "    def on_train_begin(self, logs={}):\n",
    "        self.val_f1s = []\n",
    "        self.val_recalls = []\n",
    "        self.val_precisions = []\n",
    " \n",
    "    def on_epoch_end(self, epoch, logs={}):\n",
    "        val_predict = (np.asarray(self.model.predict(self.validation_data[0]))).round()\n",
    "        val_targ = self.validation_data[1]\n",
    "        _val_f1 = f1_score(val_targ, val_predict,average='weighted')\n",
    "        _val_recall = recall_score(val_targ, val_predict,average='weighted')\n",
    "        _val_precision = precision_score(val_targ, val_predict,average='weighted')\n",
    "        self.val_f1s.append(_val_f1)\n",
    "        self.val_recalls.append(_val_recall)\n",
    "        self.val_precisions.append(_val_precision)\n",
    "        print( ' — val_f1: %f — val_precision: %f — val_recall %f' %(_val_f1, _val_precision, _val_recall))\n",
    "        return\n",
    "    \n",
    "metrics = Metrics()\n",
    "metrics"
   ]
  },
  {
   "cell_type": "code",
   "execution_count": 16,
   "metadata": {
    "scrolled": true
   },
   "outputs": [
    {
     "name": "stdout",
     "output_type": "stream",
     "text": [
      "Train on 15000 samples, validate on 10000 samples\n",
      "Epoch 1/90\n",
      "15000/15000 [==============================] - 3s 224us/sample - loss: 0.6921 - accuracy: 0.5531 - val_loss: 0.6906 - val_accuracy: 0.6780\n",
      "Epoch 2/90\n",
      "15000/15000 [==============================] - 1s 97us/sample - loss: 0.6882 - accuracy: 0.6353 - val_loss: 0.6855 - val_accuracy: 0.7045\n",
      "Epoch 3/90\n",
      "15000/15000 [==============================] - 1s 96us/sample - loss: 0.6808 - accuracy: 0.6766 - val_loss: 0.6762 - val_accuracy: 0.7430\n",
      "Epoch 4/90\n",
      "15000/15000 [==============================] - 2s 101us/sample - loss: 0.6674 - accuracy: 0.7125 - val_loss: 0.6600 - val_accuracy: 0.7618\n",
      "Epoch 5/90\n",
      "15000/15000 [==============================] - 1s 99us/sample - loss: 0.6456 - accuracy: 0.7301 - val_loss: 0.6360 - val_accuracy: 0.7830\n",
      "Epoch 6/90\n",
      "15000/15000 [==============================] - 1s 97us/sample - loss: 0.6175 - accuracy: 0.7505 - val_loss: 0.6048 - val_accuracy: 0.7906\n",
      "Epoch 7/90\n",
      "15000/15000 [==============================] - 1s 98us/sample - loss: 0.5859 - accuracy: 0.7648 - val_loss: 0.5696 - val_accuracy: 0.8129\n",
      "Epoch 8/90\n",
      "15000/15000 [==============================] - 2s 102us/sample - loss: 0.5474 - accuracy: 0.7891 - val_loss: 0.5320 - val_accuracy: 0.8264\n",
      "Epoch 9/90\n",
      "15000/15000 [==============================] - 2s 102us/sample - loss: 0.5108 - accuracy: 0.8069 - val_loss: 0.4948 - val_accuracy: 0.8378\n",
      "Epoch 10/90\n",
      "15000/15000 [==============================] - 1s 99us/sample - loss: 0.4751 - accuracy: 0.8203 - val_loss: 0.4611 - val_accuracy: 0.8446\n",
      "Epoch 11/90\n",
      "15000/15000 [==============================] - 1s 99us/sample - loss: 0.4443 - accuracy: 0.8311 - val_loss: 0.4304 - val_accuracy: 0.8547\n",
      "Epoch 12/90\n",
      "15000/15000 [==============================] - 2s 101us/sample - loss: 0.4151 - accuracy: 0.8481 - val_loss: 0.4054 - val_accuracy: 0.8611\n",
      "Epoch 13/90\n",
      "15000/15000 [==============================] - 2s 102us/sample - loss: 0.3881 - accuracy: 0.8580 - val_loss: 0.3837 - val_accuracy: 0.8662\n",
      "Epoch 14/90\n",
      "15000/15000 [==============================] - 1s 100us/sample - loss: 0.3682 - accuracy: 0.8639 - val_loss: 0.3658 - val_accuracy: 0.8706\n",
      "Epoch 15/90\n",
      "15000/15000 [==============================] - 1s 99us/sample - loss: 0.3482 - accuracy: 0.8687 - val_loss: 0.3510 - val_accuracy: 0.8738\n",
      "Epoch 16/90\n",
      "15000/15000 [==============================] - 1s 100us/sample - loss: 0.3337 - accuracy: 0.8779 - val_loss: 0.3394 - val_accuracy: 0.8752\n",
      "Epoch 17/90\n",
      "15000/15000 [==============================] - 2s 101us/sample - loss: 0.3138 - accuracy: 0.8839 - val_loss: 0.3285 - val_accuracy: 0.8765\n",
      "Epoch 18/90\n",
      "15000/15000 [==============================] - 1s 99us/sample - loss: 0.3016 - accuracy: 0.8889 - val_loss: 0.3200 - val_accuracy: 0.8766\n",
      "Epoch 19/90\n",
      "15000/15000 [==============================] - 2s 105us/sample - loss: 0.2874 - accuracy: 0.8943 - val_loss: 0.3116 - val_accuracy: 0.8800\n",
      "Epoch 20/90\n",
      "15000/15000 [==============================] - 2s 101us/sample - loss: 0.2747 - accuracy: 0.9034 - val_loss: 0.3045 - val_accuracy: 0.8820\n",
      "Epoch 21/90\n",
      "15000/15000 [==============================] - 1s 99us/sample - loss: 0.2627 - accuracy: 0.9037 - val_loss: 0.2996 - val_accuracy: 0.8814\n",
      "Epoch 22/90\n",
      "15000/15000 [==============================] - 2s 100us/sample - loss: 0.2538 - accuracy: 0.9081 - val_loss: 0.2946 - val_accuracy: 0.8834\n",
      "Epoch 23/90\n",
      "15000/15000 [==============================] - 1s 99us/sample - loss: 0.2422 - accuracy: 0.9137 - val_loss: 0.2907 - val_accuracy: 0.8842\n",
      "Epoch 24/90\n",
      "15000/15000 [==============================] - 2s 101us/sample - loss: 0.2350 - accuracy: 0.9173 - val_loss: 0.2880 - val_accuracy: 0.8841\n",
      "Epoch 25/90\n",
      "15000/15000 [==============================] - 2s 101us/sample - loss: 0.2259 - accuracy: 0.9243 - val_loss: 0.2845 - val_accuracy: 0.8863\n",
      "Epoch 26/90\n",
      "15000/15000 [==============================] - 1s 99us/sample - loss: 0.2201 - accuracy: 0.9242 - val_loss: 0.2825 - val_accuracy: 0.8868\n",
      "Epoch 27/90\n",
      "15000/15000 [==============================] - 2s 106us/sample - loss: 0.2075 - accuracy: 0.9317 - val_loss: 0.2808 - val_accuracy: 0.8875\n",
      "Epoch 28/90\n",
      "15000/15000 [==============================] - 2s 101us/sample - loss: 0.1990 - accuracy: 0.9347 - val_loss: 0.2798 - val_accuracy: 0.8874\n",
      "Epoch 29/90\n",
      "15000/15000 [==============================] - 1s 99us/sample - loss: 0.1934 - accuracy: 0.9385 - val_loss: 0.2792 - val_accuracy: 0.8882\n",
      "Epoch 30/90\n",
      "15000/15000 [==============================] - 2s 105us/sample - loss: 0.1859 - accuracy: 0.9407 - val_loss: 0.2789 - val_accuracy: 0.8888\n",
      "Epoch 31/90\n",
      "15000/15000 [==============================] - 2s 111us/sample - loss: 0.1827 - accuracy: 0.9410 - val_loss: 0.2787 - val_accuracy: 0.8891\n",
      "Epoch 32/90\n",
      "15000/15000 [==============================] - 2s 101us/sample - loss: 0.1708 - accuracy: 0.9466 - val_loss: 0.2788 - val_accuracy: 0.8890\n",
      "Epoch 33/90\n",
      "15000/15000 [==============================] - 2s 106us/sample - loss: 0.1693 - accuracy: 0.9467 - val_loss: 0.2793 - val_accuracy: 0.8893\n",
      "Epoch 34/90\n",
      "15000/15000 [==============================] - 2s 104us/sample - loss: 0.1622 - accuracy: 0.9495 - val_loss: 0.2801 - val_accuracy: 0.8880\n",
      "Epoch 35/90\n",
      "15000/15000 [==============================] - 2s 104us/sample - loss: 0.1555 - accuracy: 0.9533 - val_loss: 0.2810 - val_accuracy: 0.8873\n",
      "Epoch 36/90\n",
      "15000/15000 [==============================] - 2s 108us/sample - loss: 0.1515 - accuracy: 0.9532 - val_loss: 0.2829 - val_accuracy: 0.8882\n",
      "Epoch 37/90\n",
      "15000/15000 [==============================] - 2s 114us/sample - loss: 0.1442 - accuracy: 0.9559 - val_loss: 0.2847 - val_accuracy: 0.8877\n",
      "Epoch 38/90\n",
      "15000/15000 [==============================] - 2s 107us/sample - loss: 0.1423 - accuracy: 0.9583 - val_loss: 0.2873 - val_accuracy: 0.8857\n",
      "Epoch 39/90\n",
      "15000/15000 [==============================] - 2s 105us/sample - loss: 0.1384 - accuracy: 0.9601 - val_loss: 0.2878 - val_accuracy: 0.8880\n",
      "Epoch 40/90\n",
      "15000/15000 [==============================] - 2s 110us/sample - loss: 0.1321 - accuracy: 0.9610 - val_loss: 0.2899 - val_accuracy: 0.8862\n",
      "Epoch 41/90\n",
      "15000/15000 [==============================] - 2s 102us/sample - loss: 0.1320 - accuracy: 0.9608 - val_loss: 0.2918 - val_accuracy: 0.8861\n",
      "Epoch 42/90\n",
      "15000/15000 [==============================] - 2s 103us/sample - loss: 0.1258 - accuracy: 0.9638 - val_loss: 0.2938 - val_accuracy: 0.8866\n",
      "Epoch 43/90\n",
      "15000/15000 [==============================] - 2s 103us/sample - loss: 0.1206 - accuracy: 0.9653 - val_loss: 0.2963 - val_accuracy: 0.8848\n",
      "Epoch 44/90\n",
      "15000/15000 [==============================] - 2s 106us/sample - loss: 0.1184 - accuracy: 0.9669 - val_loss: 0.2988 - val_accuracy: 0.8854\n",
      "Epoch 45/90\n",
      "15000/15000 [==============================] - 2s 103us/sample - loss: 0.1120 - accuracy: 0.9699 - val_loss: 0.3029 - val_accuracy: 0.8859\n",
      "Epoch 46/90\n",
      "15000/15000 [==============================] - 2s 103us/sample - loss: 0.1110 - accuracy: 0.9698 - val_loss: 0.3045 - val_accuracy: 0.8844\n",
      "Epoch 47/90\n",
      "15000/15000 [==============================] - 2s 102us/sample - loss: 0.1083 - accuracy: 0.9711 - val_loss: 0.3076 - val_accuracy: 0.8856\n",
      "Epoch 48/90\n",
      "15000/15000 [==============================] - 2s 102us/sample - loss: 0.1041 - accuracy: 0.9737 - val_loss: 0.3123 - val_accuracy: 0.8837\n",
      "Epoch 49/90\n",
      "15000/15000 [==============================] - 2s 102us/sample - loss: 0.0992 - accuracy: 0.9741 - val_loss: 0.3139 - val_accuracy: 0.8847\n",
      "Epoch 50/90\n",
      "15000/15000 [==============================] - 2s 102us/sample - loss: 0.1006 - accuracy: 0.9733 - val_loss: 0.3167 - val_accuracy: 0.8840\n",
      "Epoch 51/90\n",
      "15000/15000 [==============================] - 2s 101us/sample - loss: 0.0939 - accuracy: 0.9752 - val_loss: 0.3209 - val_accuracy: 0.8829\n",
      "Epoch 52/90\n",
      "15000/15000 [==============================] - 2s 108us/sample - loss: 0.0929 - accuracy: 0.9755 - val_loss: 0.3237 - val_accuracy: 0.8835\n",
      "Epoch 53/90\n",
      "15000/15000 [==============================] - 2s 102us/sample - loss: 0.0900 - accuracy: 0.9770 - val_loss: 0.3277 - val_accuracy: 0.8824\n",
      "Epoch 54/90\n",
      "15000/15000 [==============================] - 2s 101us/sample - loss: 0.0868 - accuracy: 0.9767 - val_loss: 0.3314 - val_accuracy: 0.8822\n",
      "Epoch 55/90\n"
     ]
    },
    {
     "name": "stdout",
     "output_type": "stream",
     "text": [
      "15000/15000 [==============================] - 1s 98us/sample - loss: 0.0835 - accuracy: 0.9788 - val_loss: 0.3358 - val_accuracy: 0.8831\n",
      "Epoch 56/90\n",
      "15000/15000 [==============================] - 1s 98us/sample - loss: 0.0806 - accuracy: 0.9785 - val_loss: 0.3417 - val_accuracy: 0.8815\n",
      "Epoch 57/90\n",
      "15000/15000 [==============================] - 1s 97us/sample - loss: 0.0785 - accuracy: 0.9814 - val_loss: 0.3444 - val_accuracy: 0.8819\n",
      "Epoch 58/90\n",
      "15000/15000 [==============================] - 1s 96us/sample - loss: 0.0785 - accuracy: 0.9809 - val_loss: 0.3489 - val_accuracy: 0.8804\n",
      "Epoch 59/90\n",
      "15000/15000 [==============================] - 1s 99us/sample - loss: 0.0764 - accuracy: 0.9799 - val_loss: 0.3520 - val_accuracy: 0.8805\n",
      "Epoch 60/90\n",
      "15000/15000 [==============================] - 1s 98us/sample - loss: 0.0715 - accuracy: 0.9819 - val_loss: 0.3561 - val_accuracy: 0.8799\n",
      "Epoch 61/90\n",
      "15000/15000 [==============================] - 1s 98us/sample - loss: 0.0729 - accuracy: 0.9809 - val_loss: 0.3610 - val_accuracy: 0.8803\n",
      "Epoch 62/90\n",
      "15000/15000 [==============================] - 1s 99us/sample - loss: 0.0692 - accuracy: 0.9837 - val_loss: 0.3638 - val_accuracy: 0.8789\n",
      "Epoch 63/90\n",
      "15000/15000 [==============================] - 1s 98us/sample - loss: 0.0700 - accuracy: 0.9815 - val_loss: 0.3682 - val_accuracy: 0.8787\n",
      "Epoch 64/90\n",
      "15000/15000 [==============================] - 2s 118us/sample - loss: 0.0652 - accuracy: 0.9829 - val_loss: 0.3728 - val_accuracy: 0.8784\n",
      "Epoch 65/90\n",
      "15000/15000 [==============================] - 2s 103us/sample - loss: 0.0658 - accuracy: 0.9836 - val_loss: 0.3783 - val_accuracy: 0.8796\n",
      "Epoch 66/90\n",
      "15000/15000 [==============================] - 2s 101us/sample - loss: 0.0615 - accuracy: 0.9850 - val_loss: 0.3843 - val_accuracy: 0.8778\n",
      "Epoch 67/90\n",
      "15000/15000 [==============================] - 1s 98us/sample - loss: 0.0648 - accuracy: 0.9824 - val_loss: 0.3875 - val_accuracy: 0.8774\n",
      "Epoch 68/90\n",
      "15000/15000 [==============================] - 1s 99us/sample - loss: 0.0598 - accuracy: 0.9852 - val_loss: 0.3917 - val_accuracy: 0.8792\n",
      "Epoch 69/90\n",
      "15000/15000 [==============================] - 2s 101us/sample - loss: 0.0607 - accuracy: 0.9856 - val_loss: 0.3957 - val_accuracy: 0.8785\n",
      "Epoch 70/90\n",
      "15000/15000 [==============================] - 2s 107us/sample - loss: 0.0570 - accuracy: 0.9869 - val_loss: 0.4003 - val_accuracy: 0.8795\n",
      "Epoch 71/90\n",
      "15000/15000 [==============================] - 2s 101us/sample - loss: 0.0546 - accuracy: 0.9874 - val_loss: 0.4055 - val_accuracy: 0.8789\n",
      "Epoch 72/90\n",
      "15000/15000 [==============================] - 1s 99us/sample - loss: 0.0547 - accuracy: 0.9878 - val_loss: 0.4119 - val_accuracy: 0.8788\n",
      "Epoch 73/90\n",
      "15000/15000 [==============================] - 2s 103us/sample - loss: 0.0541 - accuracy: 0.9860 - val_loss: 0.4178 - val_accuracy: 0.8773\n",
      "Epoch 74/90\n",
      "15000/15000 [==============================] - 1s 98us/sample - loss: 0.0529 - accuracy: 0.9865 - val_loss: 0.4211 - val_accuracy: 0.8782\n",
      "Epoch 75/90\n",
      "15000/15000 [==============================] - 1s 99us/sample - loss: 0.0519 - accuracy: 0.9874 - val_loss: 0.4254 - val_accuracy: 0.8781\n",
      "Epoch 76/90\n",
      "15000/15000 [==============================] - 2s 104us/sample - loss: 0.0509 - accuracy: 0.9859 - val_loss: 0.4307 - val_accuracy: 0.8782\n",
      "Epoch 77/90\n",
      "15000/15000 [==============================] - 2s 103us/sample - loss: 0.0485 - accuracy: 0.9870 - val_loss: 0.4374 - val_accuracy: 0.8751\n",
      "Epoch 78/90\n",
      "15000/15000 [==============================] - 2s 101us/sample - loss: 0.0474 - accuracy: 0.9872 - val_loss: 0.4405 - val_accuracy: 0.8776\n",
      "Epoch 79/90\n",
      "15000/15000 [==============================] - 2s 104us/sample - loss: 0.0483 - accuracy: 0.9865 - val_loss: 0.4476 - val_accuracy: 0.8768\n",
      "Epoch 80/90\n",
      "15000/15000 [==============================] - 1s 99us/sample - loss: 0.0448 - accuracy: 0.9874 - val_loss: 0.4494 - val_accuracy: 0.8773\n",
      "Epoch 81/90\n",
      "15000/15000 [==============================] - 2s 102us/sample - loss: 0.0449 - accuracy: 0.9892 - val_loss: 0.4544 - val_accuracy: 0.8776\n",
      "Epoch 82/90\n",
      "15000/15000 [==============================] - 2s 102us/sample - loss: 0.0436 - accuracy: 0.9885 - val_loss: 0.4603 - val_accuracy: 0.8757\n",
      "Epoch 83/90\n",
      "15000/15000 [==============================] - 1s 99us/sample - loss: 0.0430 - accuracy: 0.9889 - val_loss: 0.4657 - val_accuracy: 0.8755\n",
      "Epoch 84/90\n",
      "15000/15000 [==============================] - 2s 117us/sample - loss: 0.0428 - accuracy: 0.9889 - val_loss: 0.4703 - val_accuracy: 0.8744\n",
      "Epoch 85/90\n",
      "15000/15000 [==============================] - 2s 108us/sample - loss: 0.0421 - accuracy: 0.9887 - val_loss: 0.4747 - val_accuracy: 0.8749\n",
      "Epoch 86/90\n",
      "15000/15000 [==============================] - 2s 102us/sample - loss: 0.0399 - accuracy: 0.9882 - val_loss: 0.4817 - val_accuracy: 0.8751\n",
      "Epoch 87/90\n",
      "15000/15000 [==============================] - 2s 103us/sample - loss: 0.0418 - accuracy: 0.9883 - val_loss: 0.4839 - val_accuracy: 0.8742\n",
      "Epoch 88/90\n",
      "15000/15000 [==============================] - 2s 100us/sample - loss: 0.0397 - accuracy: 0.9876 - val_loss: 0.4888 - val_accuracy: 0.8744\n",
      "Epoch 89/90\n",
      "15000/15000 [==============================] - 1s 100us/sample - loss: 0.0368 - accuracy: 0.9895 - val_loss: 0.4941 - val_accuracy: 0.8741\n",
      "Epoch 90/90\n",
      "15000/15000 [==============================] - 2s 100us/sample - loss: 0.0381 - accuracy: 0.9894 - val_loss: 0.5003 - val_accuracy: 0.8739\n"
     ]
    }
   ],
   "source": [
    "'''实际训练模型'''\n",
    "\n",
    "from keras.callbacks import EarlyStopping\n",
    "earlystopping=keras.callbacks.EarlyStopping(monitor='val_acc', patience=8, verbose=0, mode='max')\n",
    "\n",
    "history = model.fit(partial_x_train,\n",
    "                    partial_y_train,\n",
    "                    epochs=90,\n",
    "                    batch_size=512,\n",
    "                    validation_data=(x_val, y_val),\n",
    "#                     callbacks=[metrics,earlystopping],\n",
    "                    verbose=1)"
   ]
  },
  {
   "cell_type": "markdown",
   "metadata": {},
   "source": [
    "## 评价模型"
   ]
  },
  {
   "cell_type": "code",
   "execution_count": 18,
   "metadata": {},
   "outputs": [
    {
     "name": "stdout",
     "output_type": "stream",
     "text": [
      "25000/25000 [==============================] - 1s 36us/sample - loss: 0.5460 - accuracy: 0.8611\n",
      "[0.5460239705562592, 0.86108]\n"
     ]
    }
   ],
   "source": [
    "'''用测试集评价模型'''\n",
    "\n",
    "results = model.evaluate(test_data, test_labels)\n",
    "\n",
    "print(results)"
   ]
  },
  {
   "cell_type": "code",
   "execution_count": 20,
   "metadata": {},
   "outputs": [
    {
     "data": {
      "image/png": "[encoded data removed]",
      "text/plain": [
       "<Figure size 432x288 with 1 Axes>"
      ]
     },
     "metadata": {
      "needs_background": "light"
     },
     "output_type": "display_data"
    }
   ],
   "source": [
    "import matplotlib.pyplot as plt\n",
    "history_dict = history.history\n",
    "history_dict.keys()\n",
    "acc = history_dict['accuracy']\n",
    "val_acc = history_dict['val_accuracy']\n",
    "loss = history_dict['loss']\n",
    "val_loss = history_dict['val_loss']\n",
    "epochs = range(1, len(acc)+1)\n",
    "\n",
    "plt.plot(epochs, loss, 'bo', label='train loss')\n",
    "plt.plot(epochs, val_loss, 'b', label='val loss')\n",
    "plt.title('Train and val loss')\n",
    "plt.xlabel('Epochs')\n",
    "plt.xlabel('loss')\n",
    "plt.legend()\n",
    "plt.show()"
   ]
  },
  {
   "cell_type": "code",
   "execution_count": 21,
   "metadata": {},
   "outputs": [
    {
     "data": {
      "image/png": "[encoded data removed]",
      "text/plain": [
       "<Figure size 432x288 with 1 Axes>"
      ]
     },
     "metadata": {
      "needs_background": "light"
     },
     "output_type": "display_data"
    }
   ],
   "source": [
    "plt.clf()   # clear figure\n",
    "\n",
    "plt.plot(epochs, acc, 'bo', label='Training acc')\n",
    "plt.plot(epochs, val_acc, 'b', label='Validation acc')\n",
    "plt.title('Training and validation accuracy')\n",
    "plt.xlabel('Epochs')\n",
    "plt.ylabel('Accuracy')\n",
    "plt.legend()\n",
    "\n",
    "plt.show()"
   ]
  }
 ],
 "metadata": {
  "kernelspec": {
   "display_name": "Python [conda env:tensorflow]",
   "language": "python",
   "name": "conda-env-tensorflow-py"
  },
  "language_info": {
   "codemirror_mode": {
    "name": "ipython",
    "version": 3
   },
   "file_extension": ".py",
   "mimetype": "text/x-python",
   "name": "python",
   "nbconvert_exporter": "python",
   "pygments_lexer": "ipython3",
   "version": "3.7.3"
  }
 },
 "nbformat": 4,
 "nbformat_minor": 2
}
